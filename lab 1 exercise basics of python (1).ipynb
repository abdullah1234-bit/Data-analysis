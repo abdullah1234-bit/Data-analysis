{
 "cells": [
  {
   "cell_type": "markdown",
   "id": "ba6784ef-7a56-4d2b-b89c-103e89aa21b2",
   "metadata": {},
   "source": [
    "# Python Lists: Basics and Practice Problems\n",
    "\n",
    "Lists are one of the most versatile data structures in Python. They allow you to store and manipulate collections of items. In this notebook, we'll cover the basics of lists and provide some practice problems for you to solve."
   ]
  },
  {
   "cell_type": "markdown",
   "id": "cfac51db-8225-401d-849b-cc5d7f1a4466",
   "metadata": {},
   "source": [
    "## 1. Creating Lists\n",
    "\n",
    "A list is created by placing elements inside square brackets `[]`, separated by commas."
   ]
  },
  {
   "cell_type": "code",
   "execution_count": 14,
   "id": "f9d52c69-d6ee-450d-8898-486df7f5225b",
   "metadata": {},
   "outputs": [
    {
     "name": "stdout",
     "output_type": "stream",
     "text": [
      "['apple', 'banana', 'cherry']\n"
     ]
    }
   ],
   "source": [
    "# Example: Creating a list\n",
    "fruits = [\"apple\", \"banana\", \"cherry\"]\n",
    "print(fruits)"
   ]
  },
  {
   "cell_type": "markdown",
   "id": "6701c970-a261-4198-a21c-3bdf8212d4fb",
   "metadata": {},
   "source": [
    "## 2. Accessing List Elements\n",
    "\n",
    "You can access elements of a list using their **index**. Python uses zero-based indexing, meaning the first element is at index `0`."
   ]
  },
  {
   "cell_type": "code",
   "execution_count": 8,
   "id": "63e3e70d-b35d-488b-a66b-cfdf2e9d72fa",
   "metadata": {},
   "outputs": [
    {
     "name": "stdout",
     "output_type": "stream",
     "text": [
      "apple\n",
      "cherry\n"
     ]
    }
   ],
   "source": [
    "# Example: Accessing elements\n",
    "print(fruits[0])  # First element\n",
    "print(fruits[-1]) # Last element"
   ]
  },
  {
   "cell_type": "markdown",
   "id": "27060c92-f9f8-4eba-8384-d41cb408bd67",
   "metadata": {},
   "source": [
    "## 3. Modifying Lists\n",
    "\n",
    "Lists are **mutable**, meaning you can change their elements after creation."
   ]
  },
  {
   "cell_type": "code",
   "execution_count": 10,
   "id": "7b50bd4b-df5c-4e12-a233-204f04745582",
   "metadata": {},
   "outputs": [
    {
     "name": "stdout",
     "output_type": "stream",
     "text": [
      "['apple', 'blueberry', 'cherry']\n"
     ]
    }
   ],
   "source": [
    "# Example: Modifying a list\n",
    "fruits[1] = \"blueberry\"\n",
    "print(fruits)"
   ]
  },
  {
   "cell_type": "markdown",
   "id": "8d208ccd-3368-444b-b3e3-b006b9af2451",
   "metadata": {},
   "source": [
    "## 4. List Methods\n",
    "\n",
    "Python provides several built-in methods to work with lists. Here are a few common ones:\n",
    "- `append()`: Adds an element to the end of the list.\n",
    "- `insert()`: Inserts an element at a specific position.\n",
    "- `remove()`: Removes the first occurrence of a value.\n",
    "- `pop()`: Removes and returns the element at a given index.\n",
    "- `sort()`: Sorts the list in place."
   ]
  },
  {
   "cell_type": "code",
   "execution_count": 12,
   "id": "5c9c2f41-9d6f-41e3-add7-dad80111f5c9",
   "metadata": {},
   "outputs": [
    {
     "name": "stdout",
     "output_type": "stream",
     "text": [
      "['apple', 'blueberry', 'cherry', 'orange']\n",
      "['apple', 'mango', 'blueberry', 'cherry', 'orange']\n",
      "['apple', 'mango', 'cherry', 'orange']\n",
      "['apple', 'mango', 'orange']\n",
      "['apple', 'mango', 'orange']\n"
     ]
    }
   ],
   "source": [
    "# Example: Using list methods\n",
    "fruits.append(\"orange\")\n",
    "print(fruits)\n",
    "\n",
    "fruits.insert(1, \"mango\")\n",
    "print(fruits)\n",
    "\n",
    "fruits.remove(\"blueberry\")\n",
    "print(fruits)\n",
    "\n",
    "fruits.pop(2)\n",
    "print(fruits)\n",
    "\n",
    "fruits.sort()\n",
    "print(fruits)"
   ]
  },
  {
   "cell_type": "markdown",
   "id": "191a07fd-8c00-4a0b-a2b1-dc98c368c6ec",
   "metadata": {},
   "source": [
    "## 5. Slicing Lists\n",
    "\n",
    "You can extract a portion of a list using slicing. The syntax is `list[start:stop:step]`."
   ]
  },
  {
   "cell_type": "code",
   "execution_count": null,
   "id": "ccbe7388-5fd1-49c2-814d-0b3ba9d6c1e2",
   "metadata": {},
   "outputs": [],
   "source": [
    "# Example: Slicing a list\n",
    "numbers = [0, 1, 2, 3, 4, 5, 6, 7, 8, 9]\n",
    "print(numbers[2:5])   # Elements from index 2 to 4\n",
    "print(numbers[::2])   # Every second element\n",
    "print(numbers[::-1])  # Reverse the list"
   ]
  },
  {
   "cell_type": "markdown",
   "id": "19f21fef-31ef-44ff-bb56-d075f108a1a1",
   "metadata": {},
   "source": [
    "## 6. Practice Problems\n",
    "\n",
    "Now it's your turn! Solve the following problems using lists."
   ]
  },
  {
   "cell_type": "markdown",
   "id": "61437243-7afe-48a6-a6aa-7f15c285560c",
   "metadata": {},
   "source": [
    "### Problem 1: Create a List\n",
    "Create a list called `colors` containing the following elements: \"red\", \"green\", \"blue\", \"yellow\"."
   ]
  },
  {
   "cell_type": "code",
   "execution_count": null,
   "id": "20136b92-84d7-4298-9a7a-1ca5b82de0b3",
   "metadata": {},
   "outputs": [],
   "source": []
  },
  {
   "cell_type": "markdown",
   "id": "42779fb3-b590-4d03-bedc-57920d8eaa5c",
   "metadata": {},
   "source": [
    "### Problem 2: Access and Modify\n",
    "- Print the second element of the `colors` list.\n",
    "- Change the third element to \"purple\"."
   ]
  },
  {
   "cell_type": "code",
   "execution_count": null,
   "id": "b74dc2f5-6d57-4168-b407-c2d7a2ee1963",
   "metadata": {},
   "outputs": [],
   "source": []
  },
  {
   "cell_type": "markdown",
   "id": "4a9330ea-f299-452d-b4fe-aee82fe69fb9",
   "metadata": {},
   "source": [
    "### Problem 3: Add and Remove\n",
    "- Add \"orange\" to the end of the `colors` list.\n",
    "- Remove \"green\" from the list."
   ]
  },
  {
   "cell_type": "code",
   "execution_count": null,
   "id": "a11cd631-6952-42b3-b626-65e4fe2057ff",
   "metadata": {},
   "outputs": [],
   "source": []
  },
  {
   "cell_type": "markdown",
   "id": "c59b5801-b728-437b-b55c-4e74e3a4839d",
   "metadata": {},
   "source": [
    "### Problem 4: Slicing\n",
    "Create a new list called `primary_colors` that contains the first three elements of the `colors` list."
   ]
  },
  {
   "cell_type": "code",
   "execution_count": null,
   "id": "7e6843f9-52eb-4185-b1ad-a2ca9b6ad300",
   "metadata": {},
   "outputs": [],
   "source": []
  },
  {
   "cell_type": "markdown",
   "id": "a2fce18a-328c-4763-b807-1502e9847c26",
   "metadata": {},
   "source": [
    "### Problem 5: Reverse the List\n",
    "Reverse the `colors` list using slicing."
   ]
  },
  {
   "cell_type": "code",
   "execution_count": null,
   "id": "f0ff7599-5af9-4c35-9f67-d4bdd50a6e2f",
   "metadata": {},
   "outputs": [],
   "source": []
  },
  {
   "cell_type": "markdown",
   "id": "5e28759c-73fa-49c8-9e9f-e82fdef74b11",
   "metadata": {},
   "source": [
    "### Problem 6: Sort the List\n",
    "Sort the `colors` list in alphabetical order."
   ]
  },
  {
   "cell_type": "code",
   "execution_count": null,
   "id": "429cdf70-6349-4d67-9172-c86022598468",
   "metadata": {},
   "outputs": [],
   "source": []
  },
  {
   "cell_type": "markdown",
   "id": "1ff38921-6f69-4ccb-8b7d-2cbadd0df13b",
   "metadata": {},
   "source": [
    "### Problem 7: Count how many numbers in a list are positive.\n",
    "    nums = [4, -1, 9, 0, -3, 7]"
   ]
  },
  {
   "cell_type": "code",
   "execution_count": null,
   "id": "ba2c0e05-56a9-4a2c-9982-387468d1ef82",
   "metadata": {},
   "outputs": [],
   "source": []
  },
  {
   "cell_type": "markdown",
   "id": "354110c6-3f55-4028-ac11-50b9994eba9f",
   "metadata": {},
   "source": [
    "### Problem 8:Print \"Even\" or \"Odd\" for each number in the list.\n",
    "      nums = [1,2,3]"
   ]
  },
  {
   "cell_type": "code",
   "execution_count": null,
   "id": "a626fbf7-a713-4ca0-ad93-a72674cb6f5c",
   "metadata": {},
   "outputs": [],
   "source": []
  },
  {
   "cell_type": "markdown",
   "id": "d4090951-377e-424b-a202-4ec86a30cea0",
   "metadata": {},
   "source": [
    "### Problem 9:Use a loop to find the sum of all elements in a list.\n",
    "    nums = [1, 2, 3, 4]"
   ]
  },
  {
   "cell_type": "code",
   "execution_count": null,
   "id": "f792eb1f-3c52-4256-9434-e0a223fabfeb",
   "metadata": {},
   "outputs": [],
   "source": []
  },
  {
   "cell_type": "markdown",
   "id": "6f8bd624-f9fe-4041-9e8c-d43bc2e7dedf",
   "metadata": {},
   "source": [
    "### Problem 10:Find the largest number without using max().\n",
    "    nums = [5, 3, 9, 1]"
   ]
  },
  {
   "cell_type": "code",
   "execution_count": null,
   "id": "33f7c1ac-df56-4e03-be9c-c163364b62ba",
   "metadata": {},
   "outputs": [],
   "source": []
  }
 ],
 "metadata": {
  "kernelspec": {
   "display_name": "Python 3 (ipykernel)",
   "language": "python",
   "name": "python3"
  },
  "language_info": {
   "codemirror_mode": {
    "name": "ipython",
    "version": 3
   },
   "file_extension": ".py",
   "mimetype": "text/x-python",
   "name": "python",
   "nbconvert_exporter": "python",
   "pygments_lexer": "ipython3",
   "version": "3.12.7"
  }
 },
 "nbformat": 4,
 "nbformat_minor": 5
}
